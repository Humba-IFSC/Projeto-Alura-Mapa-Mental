{
  "nbformat": 4,
  "nbformat_minor": 0,
  "metadata": {
    "colab": {
      "provenance": [],
      "gpuType": "T4",
      "toc_visible": true,
      "authorship_tag": "ABX9TyOF2GBw9yGw734k/n5ILifC",
      "include_colab_link": true
    },
    "kernelspec": {
      "name": "python3",
      "display_name": "Python 3"
    },
    "language_info": {
      "name": "python"
    },
    "accelerator": "GPU"
  },
  "cells": [
    {
      "cell_type": "markdown",
      "metadata": {
        "id": "view-in-github",
        "colab_type": "text"
      },
      "source": [
        "<a href=\"https://colab.research.google.com/github/merthobu/Projeto-Alura-2-Edi-o/blob/main/Vers%C3%A3o_gamma_imersao.ipynb\" target=\"_parent\"><img src=\"https://colab.research.google.com/assets/colab-badge.svg\" alt=\"Open In Colab\"/></a>"
      ]
    },
    {
      "cell_type": "code",
      "execution_count": null,
      "metadata": {
        "colab": {
          "base_uri": "https://localhost:8080/",
          "height": 121
        },
        "id": "RbZSPb_U9XpK",
        "outputId": "8f8e731a-a708-4c3a-e029-b3e4c772c1a0"
      },
      "outputs": [
        {
          "name": "stdout",
          "output_type": "stream",
          "text": [
            "Biblioteca 'xmindparser' encontrada.\n",
            "Biblioteca 'google-generativeai' não encontrada. Tentando instalar...\n",
            "Biblioteca 'youtube_transcript_api' encontrada.\n",
            "Escolha a forma de entrada (1 - Arquivo, 2 - YouTube): 2\n",
            "Cole o link do vídeo do YouTube: https://www.youtube.com/watch?v=rvKvMFDFpPU\n"
          ]
        },
        {
          "output_type": "display_data",
          "data": {
            "text/plain": [
              "<IPython.core.display.Javascript object>"
            ],
            "application/javascript": [
              "\n",
              "    async function download(id, filename, size) {\n",
              "      if (!google.colab.kernel.accessAllowed) {\n",
              "        return;\n",
              "      }\n",
              "      const div = document.createElement('div');\n",
              "      const label = document.createElement('label');\n",
              "      label.textContent = `Downloading \"${filename}\": `;\n",
              "      div.appendChild(label);\n",
              "      const progress = document.createElement('progress');\n",
              "      progress.max = size;\n",
              "      div.appendChild(progress);\n",
              "      document.body.appendChild(div);\n",
              "\n",
              "      const buffers = [];\n",
              "      let downloaded = 0;\n",
              "\n",
              "      const channel = await google.colab.kernel.comms.open(id);\n",
              "      // Send a message to notify the kernel that we're ready.\n",
              "      channel.send({})\n",
              "\n",
              "      for await (const message of channel.messages) {\n",
              "        // Send a message to notify the kernel that we're ready.\n",
              "        channel.send({})\n",
              "        if (message.buffers) {\n",
              "          for (const buffer of message.buffers) {\n",
              "            buffers.push(buffer);\n",
              "            downloaded += buffer.byteLength;\n",
              "            progress.value = downloaded;\n",
              "          }\n",
              "        }\n",
              "      }\n",
              "      const blob = new Blob(buffers, {type: 'application/binary'});\n",
              "      const a = document.createElement('a');\n",
              "      a.href = window.URL.createObjectURL(blob);\n",
              "      a.download = filename;\n",
              "      div.appendChild(a);\n",
              "      a.click();\n",
              "      div.remove();\n",
              "    }\n",
              "  "
            ]
          },
          "metadata": {}
        },
        {
          "output_type": "display_data",
          "data": {
            "text/plain": [
              "<IPython.core.display.Javascript object>"
            ],
            "application/javascript": [
              "download(\"download_32f34755-74fe-439f-ad63-6c578b013423\", \"mapa_mental.md\", 975)"
            ]
          },
          "metadata": {}
        },
        {
          "output_type": "stream",
          "name": "stdout",
          "text": [
            "Mapa mental em Markdown salvo em: mapa_mental.md\n"
          ]
        }
      ],
      "source": [
        "# 0. Instalando e Importando módulos\n",
        "\n",
        "import subprocess\n",
        "import sys\n",
        "\n",
        "def instalar_biblioteca(nome_biblioteca):\n",
        "    \"\"\"Instala uma biblioteca usando pip.\"\"\"\n",
        "    subprocess.check_call([sys.executable, \"-m\", \"pip\", \"install\", nome_biblioteca])\n",
        "\n",
        "def verificar_bibliotecas():\n",
        "    \"\"\"Verifica se as bibliotecas necessárias estão instaladas.\n",
        "    Se não estiverem, tenta instalar.\"\"\"\n",
        "    bibliotecas = ['xmindparser', 'google-generativeai', 'youtube_transcript_api']\n",
        "    for biblioteca in bibliotecas:\n",
        "        try:\n",
        "            __import__(biblioteca)\n",
        "            print(f\"Biblioteca '{biblioteca}' encontrada.\")\n",
        "        except ImportError:\n",
        "            print(f\"Biblioteca '{biblioteca}' não encontrada. Tentando instalar...\")\n",
        "            instalar_biblioteca(biblioteca)\n",
        "\n",
        "# Verificar e instalar bibliotecas\n",
        "verificar_bibliotecas()\n",
        "\n",
        "from google.colab import files\n",
        "import pandas as pd\n",
        "from IPython.display import Markdown\n",
        "from youtube_transcript_api import YouTubeTranscriptApi\n",
        "\n",
        "# 1. Configuração - Import the Python SDK\n",
        "import google.generativeai as genai\n",
        "# Used to securely store your API key\n",
        "from google.colab import userdata\n",
        "chave = userdata.get('api_key')\n",
        "genai.configure(api_key=chave)\n",
        "\n",
        "# 2. Função para extrair ID do YouTube\n",
        "def extrair_video_id(link):\n",
        "  \"\"\"Extrai o ID do vídeo de um link do YouTube,\n",
        "  seja de navegador ou aplicativo mobile.\"\"\"\n",
        "\n",
        "  if \"youtu.be\" in link:  # Link de aplicativo mobile\n",
        "    inicio = link.find(\".be/\") + 4\n",
        "    fim = link.find(\"?\")  # Remove parâmetros extras\n",
        "    if fim == -1:\n",
        "      fim = len(link)\n",
        "    return link[inicio:fim]\n",
        "\n",
        "  elif \"youtube.com\" in link:  # Link de navegador\n",
        "    inicio = link.find(\"v=\") + 2\n",
        "    fim = link.find(\"&\")\n",
        "    if fim == -1:\n",
        "      fim = len(link)\n",
        "    return link[inicio:fim]\n",
        "\n",
        "  else:\n",
        "    return None\n",
        "\n",
        "# 3. Escolha do método de entrada\n",
        "opcao = input(\"Escolha a forma de entrada (1 - Arquivo, 2 - YouTube): \")\n",
        "\n",
        "#opcao = input(1)\n",
        "# 4. Carregar texto\n",
        "if opcao == \"1\":\n",
        "  uploaded = files.upload()\n",
        "  for filename in uploaded.keys():\n",
        "    print('Arquivo \"{name}\" carregado para o Colab com tamanho {length} bytes'.format(\n",
        "        name=filename, length=len(uploaded[filename])))\n",
        "  # Acessar o conteúdo do arquivo carregado\n",
        "  with open(filename, 'r') as arquivo:\n",
        "    texto = arquivo.read()\n",
        "\n",
        "elif opcao == \"2\":\n",
        "  link_do_video = input(\"Cole o link do vídeo do YouTube: \")\n",
        "  video_id = extrair_video_id(link_do_video)\n",
        "  if video_id:\n",
        "    try:\n",
        "      transcricao_data = YouTubeTranscriptApi.get_transcript(video_id, languages = ['pt', 'en'])\n",
        "      texto = ' '.join([trecho['text'] for trecho in transcricao_data])\n",
        "    except Exception as e:\n",
        "      print(f\"Erro ao baixar a transcrição: {e}\")\n",
        "      texto = None\n",
        "  else:\n",
        "    print(\"Link do YouTube inválido.\")\n",
        "    texto = None\n",
        "\n",
        "else:\n",
        "  print(\"Opção inválida.\")\n",
        "  texto = None\n",
        "\n",
        "# 5. Designar instrucao\n",
        "Formato_Xmind = '''Crie um mapa mental em formato Markdown com caixas para cada tópico. Use a seguinte estrutura:\n",
        "\n",
        "```markdown\n",
        "# Tópico Principal\n",
        "\n",
        "## Subtópico 1\n",
        "\n",
        "### Subtópico 1.1\n",
        "\n",
        "## Subtópico 2\n",
        "ˋˋˋ\n",
        "'''\n",
        "instrucao = Formato_Xmind\n",
        "\n",
        "# 4. Interação com o Chatbot\n",
        "def gerar_mapa_mental(texto, instrucao):\n",
        "    generation_config = {\"candidate_count\": 1,  # Número de candidatos a serem gerados.\n",
        "                     \"temperature\": 0.5}  # Controla a criatividade, 0.5 é um valor moderado.\n",
        "\n",
        "    safety_settings={'HATE': 'BLOCK_NONE',\n",
        "                     'HARASSMENT': 'BLOCK_NONE',\n",
        "                     'SEXUAL' : 'BLOCK_NONE',\n",
        "                     'DANGEROUS' : 'BLOCK_NONE' } # Define as configurações de segurança para não bloquear nenhum conteúdo.\n",
        "\n",
        "    model = genai.GenerativeModel(model_name='gemini-1.0-pro',  # Define o modelo Gemini a ser usado.\n",
        "                                   generation_config=generation_config,  # Aplica as configurações de geração.\n",
        "                                   safety_settings=safety_settings,)  # Aplica as configurações de segurança.\n",
        "\n",
        "#    resultado = model.generate_content(texto)  # Gera o conteúdo com base no texto fornecido.\n",
        "    resultado = model.generate_content(f\"{instrucao}\\n{texto}\")\n",
        "    return resultado.text  # Retorna o texto do resultado gerado.\n",
        "\n",
        "# 5. Gerar mapa mental com Gemini\n",
        "mapa_mental_markdown = gerar_mapa_mental(texto, instrucao)  # Chama a função para gerar o mapa mental.\n",
        "\n",
        "# 6. Salvar Markdown em arquivo\n",
        "with open('mapa_mental.md', 'w') as arquivo:\n",
        "  arquivo.write(mapa_mental_markdown)  # Grava o texto do mapa mental no arquivo.\n",
        "files.download('mapa_mental.md')\n",
        "\n",
        "print(\"Mapa mental em Markdown salvo em: mapa_mental.md\")  # Informa ao usuário que o arquivo foi salvo.\n"
      ]
    },
    {
      "cell_type": "code",
      "source": [
        "print(mapa_mental_markdown)"
      ],
      "metadata": {
        "colab": {
          "base_uri": "https://localhost:8080/"
        },
        "id": "LSgSFZcZGFOH",
        "outputId": "3b9f0680-dffc-4d86-8edc-5e79d031e473"
      },
      "execution_count": null,
      "outputs": [
        {
          "output_type": "stream",
          "name": "stdout",
          "text": [
            "# Tópico Principal: Testemunho Cético - Jornada de um Ex-Espírita\n",
            "\n",
            "## Subtópico 1: Trajetória Espiritual\n",
            "\n",
            "### Subtópico 1.1: Início no Catolicismo\n",
            "### Subtópico 1.2: Encontro com o Espiritismo\n",
            "\n",
            "## Subtópico 2: Crenças Espíritas\n",
            "\n",
            "### Subtópico 2.1: Postulados Básicos\n",
            "### Subtópico 2.2: Mediunidade e Reencarnação\n",
            "\n",
            "## Subtópico 3: Aspectos Éticos da Crença\n",
            "\n",
            "### Subtópico 3.1: Ética da Crença de William Clifford\n",
            "### Subtópico 3.2: Implicações Éticas da Crença Espírita\n",
            "\n",
            "## Subtópico 4: O Lado Sombrio do Espiritismo\n",
            "\n",
            "### Subtópico 4.1: Resgates Coletivos e Ética Perversa\n",
            "### Subtópico 4.2: Visões Preconceituosas e Machistas\n",
            "\n",
            "## Subtópico 5: Despedida do Espiritismo\n",
            "\n",
            "### Subtópico 5.1: Desenvolvimento do Pensamento Crítico\n",
            "### Subtópico 5.2: Desilusão e Busca de Alternativas\n",
            "\n",
            "## Subtópico 6: Vida Pós-Espiritismo\n",
            "\n",
            "### Subtópico 6.1: Ateísmo e Flexibilidade Cognitiva\n",
            "### Subtópico 6.2: Busca de Suporte em Filosofia e Psicologia\n"
          ]
        }
      ]
    },
    {
      "cell_type": "code",
      "source": [
        "display(Markdown(mapa_mental_markdown))"
      ],
      "metadata": {
        "colab": {
          "base_uri": "https://localhost:8080/",
          "height": 676
        },
        "id": "T2um9X8KGYPu",
        "outputId": "d52e3205-44fa-4e11-bb03-97aa0f414e11"
      },
      "execution_count": null,
      "outputs": [
        {
          "output_type": "display_data",
          "data": {
            "text/plain": [
              "<IPython.core.display.Markdown object>"
            ],
            "text/markdown": "# Tópico Principal\n\n## Subtópico 1\n\n### Subtópico 1.1\n\n## Subtópico 2\n\n### Subtópico 2.1\n\n#### Subtópico 2.1.1\n\n#### Subtópico 2.1.2\n\n### Subtópico 2.2\n\n#### Subtópico 2.2.1\n\n#### Subtópico 2.2.2\n\n## Subtópico 3\n\n### Subtópico 3.1\n\n#### Subtópico 3.1.1\n\n#### Subtópico 3.1.2\n\n### Subtópico 3.2\n\n#### Subtópico 3.2.1\n\n#### Subtópico 3.2.2"
          },
          "metadata": {}
        }
      ]
    },
    {
      "cell_type": "code",
      "source": [
        "https://www.youtube.com/live/rvKvMFDFpPU?si=iuQzBA5f9L-vrj7T"
      ],
      "metadata": {
        "id": "hJqeTFivUutj"
      },
      "execution_count": null,
      "outputs": []
    }
  ]
}